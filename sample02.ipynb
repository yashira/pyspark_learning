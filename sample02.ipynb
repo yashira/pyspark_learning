{
 "cells": [
  {
   "cell_type": "markdown",
   "metadata": {},
   "source": [
    "Pyspark 02 - Describe functionality of Dataframes"
   ]
  },
  {
   "cell_type": "code",
   "execution_count": null,
   "metadata": {},
   "outputs": [],
   "source": [
    "#create spark context\n",
    "from pyspark.sql import SparkSession\n",
    "sc = SparkSession.builder.appName('simple').getOrCreate()"
   ]
  },
  {
   "cell_type": "code",
   "execution_count": null,
   "metadata": {},
   "outputs": [],
   "source": [
    "#create dataframe from the csv\n",
    "df_contacts = sc.read.csv('/Users/yashira/Desktop/contacts.csv', header=True)"
   ]
  },
  {
   "cell_type": "code",
   "execution_count": null,
   "metadata": {},
   "outputs": [],
   "source": [
    "#print the schema\n",
    "df_contacts.printSchema()"
   ]
  },
  {
   "cell_type": "markdown",
   "metadata": {},
   "source": [
    "By default spark change the data type to `string` for every columns even if it contains `numeric` values. \n",
    "We can overcome this by using inferSchema flag to interprite propper datatype for each column "
   ]
  },
  {
   "cell_type": "code",
   "execution_count": null,
   "metadata": {},
   "outputs": [],
   "source": [
    "df_contacts = sc.read.csv('/Users/yashira/Desktop/contacts.csv', header=True, inferSchema=True)"
   ]
  },
  {
   "cell_type": "code",
   "execution_count": null,
   "metadata": {},
   "outputs": [],
   "source": [
    "df_contacts.printSchema()"
   ]
  },
  {
   "cell_type": "markdown",
   "metadata": {},
   "source": [
    "Selecting column data"
   ]
  },
  {
   "cell_type": "code",
   "execution_count": null,
   "metadata": {},
   "outputs": [],
   "source": [
    "#Fetch given column data value\n",
    "f_name_df = df_contacts.select('first_name')\n",
    "f_name_df.show(5)"
   ]
  },
  {
   "cell_type": "code",
   "execution_count": null,
   "metadata": {},
   "outputs": [],
   "source": [
    "#Fetch multiple columns\n",
    "name_df = df_contacts.select(['first_name', 'last_name'])\n",
    "name_df.show(5)"
   ]
  },
  {
   "cell_type": "markdown",
   "metadata": {},
   "source": [
    "Describe Function\n",
    "- Shows the statics of each column"
   ]
  },
  {
   "cell_type": "code",
   "execution_count": null,
   "metadata": {},
   "outputs": [],
   "source": [
    "df_contacts.describe().show()"
   ]
  },
  {
   "cell_type": "markdown",
   "metadata": {},
   "source": [
    "Adding, Removing and Renaming columns\n"
   ]
  },
  {
   "cell_type": "code",
   "execution_count": null,
   "metadata": {},
   "outputs": [],
   "source": [
    "# Add the columns\n",
    "df_contacts = df_contacts.withColumn('mobile_number23', df_contacts['zip']+2)\n",
    "df_contacts.show()"
   ]
  },
  {
   "cell_type": "code",
   "execution_count": null,
   "metadata": {},
   "outputs": [],
   "source": [
    "# Drop the columns\n",
    "df_contacts = df_contacts.drop('mobile_number23') # drop can take list of field to remove multiple fields.\n",
    "df_contacts.show(5)"
   ]
  },
  {
   "cell_type": "code",
   "execution_count": 16,
   "metadata": {},
   "outputs": [
    {
     "name": "stdout",
     "output_type": "stream",
     "text": [
      "+----------+---------+--------------------+--------------------+-----------+----------+-----+-----+------------+------------+--------------------+\n",
      "|first_name|last_name|        company_name|             address|       city|    county|state|  zip|      mobile|       phone|               email|\n",
      "+----------+---------+--------------------+--------------------+-----------+----------+-----+-----+------------+------------+--------------------+\n",
      "|     James|     Butt|   Benton, John B Jr|  6649 N Blue Gum St|New Orleans|   Orleans|   LA|70116|504-621-8927|504-845-1427|     jbutt@gmail.com|\n",
      "| Josephine|  Darakjy|Chanay, Jeffrey A...| 4 B Blue Ridge Blvd|   Brighton|Livingston|   MI|48116|810-292-9388|810-374-9840|josephine_darakjy...|\n",
      "|       Art|   Venere| Chemel, James L Cpa|8 W Cerritos Ave #54| Bridgeport|Gloucester|   NJ| 8014|856-636-8749|856-264-4130|      art@venere.org|\n",
      "|     Lenna| Paprocki|Feltz Printing Se...|         639 Main St|  Anchorage| Anchorage|   AK|99501|907-385-4412|907-921-2010|lpaprocki@hotmail...|\n",
      "|   Donette|   Foller| Printing Dimensions|        34 Center St|   Hamilton|    Butler|   OH|45011|513-570-1893|513-549-4561|donette.foller@co...|\n",
      "+----------+---------+--------------------+--------------------+-----------+----------+-----+-----+------------+------------+--------------------+\n",
      "only showing top 5 rows\n",
      "\n"
     ]
    }
   ],
   "source": [
    "# Rename the columns\n",
    "df_contacts = df_contacts.withColumnRenamed('phone1', 'mobile')\n",
    "df_contacts.show(5)"
   ]
  }
 ],
 "metadata": {
  "kernelspec": {
   "display_name": "Python 3.9.14 64-bit",
   "language": "python",
   "name": "python3"
  },
  "language_info": {
   "codemirror_mode": {
    "name": "ipython",
    "version": 3
   },
   "file_extension": ".py",
   "mimetype": "text/x-python",
   "name": "python",
   "nbconvert_exporter": "python",
   "pygments_lexer": "ipython3",
   "version": "3.9.14"
  },
  "orig_nbformat": 4,
  "vscode": {
   "interpreter": {
    "hash": "a665b5d41d17b532ea9890333293a1b812fa0b73c9c25c950b3cedf1bebd0438"
   }
  }
 },
 "nbformat": 4,
 "nbformat_minor": 2
}

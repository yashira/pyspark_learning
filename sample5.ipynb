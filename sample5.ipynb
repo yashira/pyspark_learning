{
 "cells": [
  {
   "attachments": {},
   "cell_type": "markdown",
   "metadata": {},
   "source": [
    "Group By and Aggregation"
   ]
  },
  {
   "cell_type": "code",
   "execution_count": 2,
   "metadata": {},
   "outputs": [],
   "source": [
    "from pyspark.sql import SparkSession\n",
    "\n",
    "sc = SparkSession.builder.appName('simple').getOrCreate()\n",
    "contact_df = sc.read.csv('csv/dataset2.csv', header=True, inferSchema=True)"
   ]
  },
  {
   "cell_type": "code",
   "execution_count": 3,
   "metadata": {},
   "outputs": [
    {
     "name": "stdout",
     "output_type": "stream",
     "text": [
      "+-----+--------+---------------+-----------+\n",
      "| Name|sum(Age)|sum(Experience)|sum(Salary)|\n",
      "+-----+--------+---------------+-----------+\n",
      "|Krish|      57|              7|      27000|\n",
      "| John|      65|             20|     200000|\n",
      "|Manny|      47|             12|      50000|\n",
      "+-----+--------+---------------+-----------+\n",
      "\n"
     ]
    }
   ],
   "source": [
    "#Using aggregate and groupby\n",
    "contact_df.groupBy('Name').sum().show()"
   ]
  },
  {
   "cell_type": "code",
   "execution_count": 4,
   "metadata": {},
   "outputs": [
    {
     "name": "stdout",
     "output_type": "stream",
     "text": [
      "+-----+--------+---------------+-----------+\n",
      "| Name|avg(Age)|avg(Experience)|avg(Salary)|\n",
      "+-----+--------+---------------+-----------+\n",
      "|Krish|    28.5|            3.5|    13500.0|\n",
      "| John|    32.5|           10.0|   100000.0|\n",
      "|Manny|    23.5|            6.0|    25000.0|\n",
      "+-----+--------+---------------+-----------+\n",
      "\n"
     ]
    }
   ],
   "source": [
    "contact_df.groupBy('Name').mean().show()"
   ]
  },
  {
   "cell_type": "code",
   "execution_count": 5,
   "metadata": {},
   "outputs": [
    {
     "name": "stdout",
     "output_type": "stream",
     "text": [
      "+-----+-----+\n",
      "| Name|count|\n",
      "+-----+-----+\n",
      "|Krish|    2|\n",
      "| John|    2|\n",
      "|Manny|    2|\n",
      "+-----+-----+\n",
      "\n"
     ]
    }
   ],
   "source": [
    "contact_df.groupBy('Name').count().show()"
   ]
  },
  {
   "cell_type": "code",
   "execution_count": 6,
   "metadata": {},
   "outputs": [
    {
     "name": "stdout",
     "output_type": "stream",
     "text": [
      "+-----------+\n",
      "|min(Salary)|\n",
      "+-----------+\n",
      "|      12000|\n",
      "+-----------+\n",
      "\n"
     ]
    }
   ],
   "source": [
    "contact_df.agg({\"Salary\" : \"min\"}).show()"
   ]
  }
 ],
 "metadata": {
  "kernelspec": {
   "display_name": "Python 3",
   "language": "python",
   "name": "python3"
  },
  "language_info": {
   "codemirror_mode": {
    "name": "ipython",
    "version": 3
   },
   "file_extension": ".py",
   "mimetype": "text/x-python",
   "name": "python",
   "nbconvert_exporter": "python",
   "pygments_lexer": "ipython3",
   "version": "3.9.14"
  },
  "orig_nbformat": 4,
  "vscode": {
   "interpreter": {
    "hash": "a665b5d41d17b532ea9890333293a1b812fa0b73c9c25c950b3cedf1bebd0438"
   }
  }
 },
 "nbformat": 4,
 "nbformat_minor": 2
}
